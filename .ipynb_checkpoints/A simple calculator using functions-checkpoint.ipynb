{
 "cells": [
  {
   "cell_type": "markdown",
   "metadata": {},
   "source": [
    "## A simple calculator using functions\n",
    "\n",
    "1) Read code and discuss - ask questions!\n",
    "\n",
    "2) Comment code\n",
    "\n",
    "3) Extend the calculator with 5 more functions\n"
   ]
  },
  {
   "cell_type": "code",
   "execution_count": 1,
   "metadata": {},
   "outputs": [],
   "source": [
    "def mainMenu(): #This function holds the code that displays the main menu and the users options\n",
    "    validChoices = [\"A\", \"B\", \"C\", \"D\", \"E\", \"Q\"] #The users choices\n",
    "    valid = False #sets valid to false\n",
    "    while not valid: #While valid is not true this will repeat\n",
    "        print(\"A) Add numbers\") #prints the option to add numbers\n",
    "        print(\"B) Subtract numbers\") #prints the option to subtract numbers\n",
    "        print(\"C) Multiply numbers\") #prints the option to subtract numbers\n",
    "        print(\"D) Divide numbers\") #prints the option to subtract numbers\n",
    "        print(\"E) Power a number by another number\") #prints the option to subtract numbers\n",
    "        print(\"Q) Exit the calculator\") #prints the option to Quit the program\n",
    "        choice = input(\"choose your option: \").upper()\n",
    "        if choice not in validChoices: #If the user chooses a option that is not defined the program will print this.\n",
    "            print(\" \")\n",
    "            print(\"sorry that is not a valid menu choice \")\n",
    "            print(\" \")\n",
    "        else:\n",
    "            valid= True #If the user option is valid, the variable valid is set to true.\n",
    "            \n",
    "    return choice #returns the choice the user has made"
   ]
  },
  {
   "cell_type": "code",
   "execution_count": 2,
   "metadata": {},
   "outputs": [],
   "source": [
    "def enterNumber(): #function for entering numbers\n",
    "    valid = False #sets valid to false\n",
    "    while not valid: #while valid is false this will loop\n",
    "        try:\n",
    "            x=int(input(\"enter a number\")) #asks the user to enter the first number\n",
    "            valid=True #sets valid to true so the code will not run again\n",
    "        except ValueError:\n",
    "            print(\"That was not a valid number.. please try again\") #if the input is not a number this code will run.\n",
    "    \n",
    "    return x #returns the value of x"
   ]
  },
  {
   "cell_type": "code",
   "execution_count": 3,
   "metadata": {},
   "outputs": [],
   "source": [
    "def add(x,y): #function for adding numbers together\n",
    "    \n",
    "    return x+y #returns the value of x add y"
   ]
  },
  {
   "cell_type": "code",
   "execution_count": 4,
   "metadata": {},
   "outputs": [],
   "source": [
    "def subtract(x,y): #function for subtracting two or more numbers \n",
    "    \n",
    "    return x-y #returns x minus y"
   ]
  },
  {
   "cell_type": "code",
   "execution_count": 5,
   "metadata": {},
   "outputs": [],
   "source": [
    "def multiply(x, y): #function for multiplying a number by another number\n",
    "    \n",
    "    return x * y #multiplies x by y"
   ]
  },
  {
   "cell_type": "code",
   "execution_count": 6,
   "metadata": {},
   "outputs": [],
   "source": [
    "def divide(x, y): #function for dividing a number by another number\n",
    "    \n",
    "    return x / y #divides x by y"
   ]
  },
  {
   "cell_type": "code",
   "execution_count": 7,
   "metadata": {},
   "outputs": [],
   "source": [
    "def power(x, y): #function for powers\n",
    "    \n",
    "    return x ** y #x is to the power of y"
   ]
  },
  {
   "cell_type": "code",
   "execution_count": null,
   "metadata": {},
   "outputs": [],
   "source": [
    "def modulo(x, y):\n",
    "    \n",
    "    return x % y"
   ]
  },
  {
   "cell_type": "code",
   "execution_count": 8,
   "metadata": {},
   "outputs": [
    {
     "name": "stdout",
     "output_type": "stream",
     "text": [
      "welcome to my calculator\n",
      " \n",
      "A) Add numbers\n",
      "B) Subtract numbers\n",
      "C) Multiply numbers\n",
      "D) Divide numbers\n",
      "E) Power a number by another number\n",
      "Q) Exit the calculator\n",
      "choose your option: E\n",
      "enter a number33\n",
      "enter a number66\n",
      " \n",
      "the answer from your calcaulation is = 16669402451463259637329876426477330990543373441558690953495417732649142801752419789735108174548143169\n",
      " \n",
      "A) Add numbers\n",
      "B) Subtract numbers\n",
      "C) Multiply numbers\n",
      "D) Divide numbers\n",
      "E) Power a number by another number\n",
      "Q) Exit the calculator\n",
      "choose your option: Q\n",
      " \n",
      " \n",
      "Thank you for using this calculator!\n"
     ]
    }
   ],
   "source": [
    "#main program starts here\n",
    "print(\"welcome to my calculator\")\n",
    "print(\" \")\n",
    "again = \"y\"\n",
    "while again == \"y\":\n",
    "    \n",
    "    userChoice = mainMenu()\n",
    "    if userChoice == \"A\":\n",
    "        answer = add(enterNumber(), enterNumber())\n",
    "    elif userChoice == \"B\":\n",
    "        answer = subtract(enterNumber(), enterNumber())\n",
    "    elif userChoice == \"C\":\n",
    "        answer = multiply(enterNumber(), enterNumber())\n",
    "    elif userChoice == \"D\":\n",
    "        answer = multiply(enterNumber(), enterNumber())\n",
    "    elif userChoice == \"E\":\n",
    "        answer = power(enterNumber(), enterNumber())\n",
    "    elif userChoice == \"Q\":\n",
    "        again = \"n\"\n",
    "    else:\n",
    "        print(\"error - we should never get here\")\n",
    "    \n",
    "    print(\" \")\n",
    "    \n",
    "    if userChoice != \"Q\":\n",
    "        print(\"the answer from your calcaulation is = \"+str(answer))\n",
    "        \n",
    "    print(\" \")\n",
    "\n",
    "print(\"Thank you for using this calculator!\")"
   ]
  }
 ],
 "metadata": {
  "kernelspec": {
   "display_name": "Python 3",
   "language": "python",
   "name": "python3"
  },
  "language_info": {
   "codemirror_mode": {
    "name": "ipython",
    "version": 3
   },
   "file_extension": ".py",
   "mimetype": "text/x-python",
   "name": "python",
   "nbconvert_exporter": "python",
   "pygments_lexer": "ipython3",
   "version": "3.6.8"
  }
 },
 "nbformat": 4,
 "nbformat_minor": 2
}
